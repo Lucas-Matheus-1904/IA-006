{
 "cells": [
  {
   "cell_type": "code",
   "execution_count": 1,
   "id": "e26ee264",
   "metadata": {
    "scrolled": false
   },
   "outputs": [
    {
     "name": "stdout",
     "output_type": "stream",
     "text": [
      "Requirement already satisfied: PyPDF2 in c:\\users\\valor - javis\\anaconda3\\lib\\site-packages (3.0.1)\n",
      "Requirement already satisfied: typing_extensions>=3.10.0.0 in c:\\users\\valor - javis\\anaconda3\\lib\\site-packages (from PyPDF2) (4.3.0)\n",
      "Note: you may need to restart the kernel to use updated packages.\n"
     ]
    }
   ],
   "source": [
    "pip install PyPDF2"
   ]
  },
  {
   "cell_type": "code",
   "execution_count": 12,
   "id": "ae67a27e",
   "metadata": {
    "scrolled": true
   },
   "outputs": [
    {
     "name": "stdout",
     "output_type": "stream",
     "text": [
      "Requirement already satisfied: nltk in c:\\users\\valor - javis\\anaconda3\\lib\\site-packages (3.7)\n",
      "Requirement already satisfied: joblib in c:\\users\\valor - javis\\anaconda3\\lib\\site-packages (from nltk) (1.1.0)\n",
      "Requirement already satisfied: regex>=2021.8.3 in c:\\users\\valor - javis\\anaconda3\\lib\\site-packages (from nltk) (2022.7.9)\n",
      "Requirement already satisfied: click in c:\\users\\valor - javis\\anaconda3\\lib\\site-packages (from nltk) (8.0.4)\n",
      "Requirement already satisfied: tqdm in c:\\users\\valor - javis\\anaconda3\\lib\\site-packages (from nltk) (4.64.1)\n",
      "Requirement already satisfied: colorama in c:\\users\\valor - javis\\anaconda3\\lib\\site-packages (from click->nltk) (0.4.5)\n",
      "Note: you may need to restart the kernel to use updated packages.\n"
     ]
    }
   ],
   "source": [
    "pip install nltk"
   ]
  },
  {
   "cell_type": "code",
   "execution_count": 13,
   "id": "072e6f89",
   "metadata": {
    "scrolled": true
   },
   "outputs": [
    {
     "name": "stderr",
     "output_type": "stream",
     "text": [
      "[nltk_data] Downloading package punkt to C:\\Users\\Valor -\n",
      "[nltk_data]     Javis\\AppData\\Roaming\\nltk_data...\n",
      "[nltk_data]   Unzipping tokenizers\\punkt.zip.\n"
     ]
    },
    {
     "data": {
      "text/plain": [
       "True"
      ]
     },
     "execution_count": 13,
     "metadata": {},
     "output_type": "execute_result"
    }
   ],
   "source": [
    "nltk.download('punkt')"
   ]
  },
  {
   "cell_type": "code",
   "execution_count": 18,
   "id": "468d45c3",
   "metadata": {
    "scrolled": true
   },
   "outputs": [
    {
     "name": "stderr",
     "output_type": "stream",
     "text": [
      "[nltk_data] Downloading package stopwords to C:\\Users\\Valor -\n",
      "[nltk_data]     Javis\\AppData\\Roaming\\nltk_data...\n",
      "[nltk_data]   Unzipping corpora\\stopwords.zip.\n"
     ]
    },
    {
     "data": {
      "text/plain": [
       "True"
      ]
     },
     "execution_count": 18,
     "metadata": {},
     "output_type": "execute_result"
    }
   ],
   "source": [
    "nltk.download('stopwords')"
   ]
  },
  {
   "cell_type": "code",
   "execution_count": 16,
   "id": "62561e6a",
   "metadata": {},
   "outputs": [],
   "source": [
    "import nltk\n",
    "from nltk.tokenize import word_tokenize"
   ]
  },
  {
   "cell_type": "code",
   "execution_count": null,
   "id": "952e7031",
   "metadata": {
    "scrolled": false
   },
   "outputs": [],
   "source": [
    "import PyPDF2\n",
    "import nltk\n",
    "from nltk.corpus import stopwords\n",
    "from nltk.tokenize import word_tokenize, sent_tokenize\n",
    "from collections import defaultdict\n",
    "import string\n",
    "\n",
    "# abrir o arquivo PDF\n",
    "with open('RO SIAPE.pdf', 'rb') as pdf_file:\n",
    "    reader = PyPDF2.PdfReader(pdf_file)\n",
    "    # extrair o texto do PDF\n",
    "    text = ''\n",
    "    for i in range(len(reader.pages)):\n",
    "        text += reader.pages[i].extract_text()\n",
    "\n",
    "# remover pontuações e números do texto\n",
    "text = text.translate(str.maketrans('', '', string.punctuation+string.digits))\n",
    "\n",
    "# tokenizar o texto em palavras e sentenças\n",
    "tokens = word_tokenize(text)\n",
    "sentences = sent_tokenize(text)\n",
    "\n",
    "# remover stopwords do texto\n",
    "stop_words = set(stopwords.words('portuguese'))\n",
    "filtered_tokens = [word for word in tokens if word.casefold() not in stop_words]\n",
    "\n",
    "# calcular a frequência de cada palavra no texto\n",
    "freq_dist = nltk.FreqDist(filtered_tokens)\n",
    "\n",
    "# criar um dicionário para mapear cada palavra para os parágrafos em que aparece\n",
    "word_to_paragraphs = defaultdict(list)\n",
    "for i in range(len(reader.pages)):\n",
    "    page_text = reader.pages[i].extract_text()\n",
    "    page_text = page_text.translate(str.maketrans('', '', string.punctuation+string.digits))\n",
    "    page_sentences = sent_tokenize(page_text)\n",
    "    page_filtered_tokens = [word for word in word_tokenize(page_text) if word.casefold() not in stop_words]\n",
    "    for word in page_filtered_tokens:\n",
    "        for sentence in page_sentences:\n",
    "            if word in sentence:\n",
    "                word_to_paragraphs[word].append(i)\n",
    "\n",
    "# permitir que o usuário faça perguntas\n",
    "while True:\n",
    "    question = input('Digite sua pergunta ou digite \"sair\" para encerrar: ')\n",
    "    if question.lower() == 'sair':\n",
    "        break\n",
    "    else:\n",
    "        # tokenizar a pergunta em palavras\n",
    "        question_tokens = word_tokenize(question)\n",
    "\n",
    "        # remover stopwords da pergunta\n",
    "        filtered_question = [word for word in question_tokens if word.casefold() not in stop_words]\n",
    "\n",
    "        # procurar pelos parágrafos que contêm todas as palavras-chave da pergunta\n",
    "        relevant_paragraphs = []\n",
    "        for word in filtered_question:\n",
    "            if word in word_to_paragraphs:\n",
    "                relevant_paragraphs.append(set(word_to_paragraphs[word]))\n",
    "\n",
    "        # encontrar a interseção dos parágrafos relevantes\n",
    "        if relevant_paragraphs:\n",
    "            common_paragraphs = set.intersection(*relevant_paragraphs)\n",
    "        else:\n",
    "            common_paragraphs = set()\n",
    "\n",
    "        # imprimir o parágrafo relevante\n",
    "        if common_paragraphs:\n",
    "            paragraph_text = ''\n",
    "            for i in common_paragraphs:\n",
    "                paragraph_text += reader.pages[i].extract_text()\n",
    "            print('Aqui está o parágrafo relevante para a sua pergunta:\\n')\n",
    "            print(paragraph_text)\n",
    "        else:\n",
    "            print('Desculpe, não consegui encontrar nenhuma informação relevante para a sua pergunta.')\n"
   ]
  }
 ],
 "metadata": {
  "kernelspec": {
   "display_name": "Python 3 (ipykernel)",
   "language": "python",
   "name": "python3"
  },
  "language_info": {
   "codemirror_mode": {
    "name": "ipython",
    "version": 3
   },
   "file_extension": ".py",
   "mimetype": "text/x-python",
   "name": "python",
   "nbconvert_exporter": "python",
   "pygments_lexer": "ipython3",
   "version": "3.9.13"
  }
 },
 "nbformat": 4,
 "nbformat_minor": 5
}
